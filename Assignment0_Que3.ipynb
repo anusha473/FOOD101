{
 "cells": [
  {
   "cell_type": "code",
   "execution_count": 56,
   "id": "a0cc7b4a-6233-4ef1-b924-2f2be7909e20",
   "metadata": {},
   "outputs": [],
   "source": [
    "import pandas as pd\n",
    "import numpy as np\n",
    "df = pd.read_csv('IITK_Courses_Report.csv')\n",
    "df.isnull()\n",
    "non_numerical_columns= ['Student Name','Course']\n",
    "df.dropna(subset = non_numerical_columns, inplace=True)\n",
    "numerical_columns= ['Marks (%)','Attendance (%)']\n",
    "for col in numerical_columns:\n",
    "    for i in df[df[col].isnull()].index:\n",
    "        above = df.loc[i - 1, col] \n",
    "        below = df.loc[i + 1, col] \n",
    "        df.loc[i, col] = np.sqrt(above * below)\n",
    "df.to_csv('IITK_Courses_Report.csv')\n",
    "\n",
    "\n",
    "\n",
    "\n",
    "\n",
    "\n"
   ]
  },
  {
   "cell_type": "code",
   "execution_count": null,
   "id": "2602e600-5e9f-45ea-bf9a-18c8529f1bd8",
   "metadata": {},
   "outputs": [],
   "source": []
  }
 ],
 "metadata": {
  "kernelspec": {
   "display_name": "Python 3 (ipykernel)",
   "language": "python",
   "name": "python3"
  },
  "language_info": {
   "codemirror_mode": {
    "name": "ipython",
    "version": 3
   },
   "file_extension": ".py",
   "mimetype": "text/x-python",
   "name": "python",
   "nbconvert_exporter": "python",
   "pygments_lexer": "ipython3",
   "version": "3.12.7"
  }
 },
 "nbformat": 4,
 "nbformat_minor": 5
}
